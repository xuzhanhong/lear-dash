{
 "cells": [
  {
   "cell_type": "code",
   "execution_count": 1,
   "metadata": {},
   "outputs": [],
   "source": [
    "from pymongo import MongoClient\n",
    "\n",
    "# 连接到本机默认MongoDB服务\n",
    "client = MongoClient()\n"
   ]
  },
  {
   "cell_type": "code",
   "execution_count": 2,
   "metadata": {},
   "outputs": [],
   "source": [
    "# 连接或创建示例数据库\n",
    "db = client['demo']\n"
   ]
  },
  {
   "cell_type": "code",
   "execution_count": 3,
   "metadata": {},
   "outputs": [],
   "source": [
    "# 连接或创建示例集合\n",
    "collection = db['demo_collection']\n"
   ]
  },
  {
   "cell_type": "markdown",
   "metadata": {},
   "source": [
    "- 增"
   ]
  },
  {
   "cell_type": "code",
   "execution_count": 4,
   "metadata": {},
   "outputs": [
    {
     "data": {
      "text/plain": [
       "<pymongo.results.InsertOneResult at 0x2965eae0bb0>"
      ]
     },
     "execution_count": 4,
     "metadata": {},
     "output_type": "execute_result"
    }
   ],
   "source": [
    "# 插入一条数据\n",
    "collection.insert_one(\n",
    "    {'name': '小明', 'fields': {'a': 1, 'b': 'xxx', 'c': [1, 2, 3]}}\n",
    ")\n"
   ]
  },
  {
   "cell_type": "code",
   "execution_count": 5,
   "metadata": {},
   "outputs": [
    {
     "data": {
      "text/plain": [
       "<pymongo.results.InsertManyResult at 0x296609e6ac0>"
      ]
     },
     "execution_count": 5,
     "metadata": {},
     "output_type": "execute_result"
    }
   ],
   "source": [
    "# 插入多条数据\n",
    "collection.insert_many(\n",
    "    [\n",
    "        {'name': name, 'fields': {'a': 1, 'b': 'xxx', 'c': [1, 2, 3]}}\n",
    "        for name in ['小王', '小张', '小李']\n",
    "    ]\n",
    ")\n"
   ]
  },
  {
   "cell_type": "markdown",
   "metadata": {},
   "source": [
    "- 查"
   ]
  },
  {
   "cell_type": "code",
   "execution_count": 6,
   "metadata": {},
   "outputs": [
    {
     "data": {
      "text/plain": [
       "[{'_id': ObjectId('64217bb51cee1325d080bed5'),\n",
       "  'name': '小明',\n",
       "  'fields': {'a': 1, 'b': 'xxx', 'c': [1, 2, 3]}},\n",
       " {'_id': ObjectId('64217bb51cee1325d080bed6'),\n",
       "  'name': '小王',\n",
       "  'fields': {'a': 1, 'b': 'xxx', 'c': [1, 2, 3]}},\n",
       " {'_id': ObjectId('64217bb51cee1325d080bed7'),\n",
       "  'name': '小张',\n",
       "  'fields': {'a': 1, 'b': 'xxx', 'c': [1, 2, 3]}},\n",
       " {'_id': ObjectId('64217bb51cee1325d080bed8'),\n",
       "  'name': '小李',\n",
       "  'fields': {'a': 1, 'b': 'xxx', 'c': [1, 2, 3]}}]"
      ]
     },
     "execution_count": 6,
     "metadata": {},
     "output_type": "execute_result"
    }
   ],
   "source": [
    "# find()不直接返回结果，可以转list获取查询结果\n",
    "list(collection.find({}))\n"
   ]
  },
  {
   "cell_type": "code",
   "execution_count": 7,
   "metadata": {},
   "outputs": [
    {
     "data": {
      "text/plain": [
       "[{'_id': ObjectId('64217bb51cee1325d080bed5'),\n",
       "  'name': '小明',\n",
       "  'fields': {'a': 1, 'b': 'xxx', 'c': [1, 2, 3]}}]"
      ]
     },
     "execution_count": 7,
     "metadata": {},
     "output_type": "execute_result"
    }
   ],
   "source": [
    "list(\n",
    "    collection.find({\n",
    "        'name': '小明'\n",
    "    })\n",
    ")"
   ]
  },
  {
   "cell_type": "code",
   "execution_count": 8,
   "metadata": {},
   "outputs": [
    {
     "data": {
      "text/plain": [
       "[{'_id': ObjectId('64217bb51cee1325d080bed5'),\n",
       "  'name': '小明',\n",
       "  'fields': {'a': 1, 'b': 'xxx', 'c': [1, 2, 3]}},\n",
       " {'_id': ObjectId('64217bb51cee1325d080bed6'),\n",
       "  'name': '小王',\n",
       "  'fields': {'a': 1, 'b': 'xxx', 'c': [1, 2, 3]}},\n",
       " {'_id': ObjectId('64217bb51cee1325d080bed7'),\n",
       "  'name': '小张',\n",
       "  'fields': {'a': 1, 'b': 'xxx', 'c': [1, 2, 3]}},\n",
       " {'_id': ObjectId('64217bb51cee1325d080bed8'),\n",
       "  'name': '小李',\n",
       "  'fields': {'a': 1, 'b': 'xxx', 'c': [1, 2, 3]}}]"
      ]
     },
     "execution_count": 8,
     "metadata": {},
     "output_type": "execute_result"
    }
   ],
   "source": [
    "# 嵌套字段判断\n",
    "list(\n",
    "    collection.find({\n",
    "        'fields.a': 1\n",
    "    })\n",
    ")"
   ]
  },
  {
   "cell_type": "code",
   "execution_count": 9,
   "metadata": {},
   "outputs": [
    {
     "data": {
      "text/plain": [
       "[{'_id': ObjectId('64217bb51cee1325d080bed5'),\n",
       "  'name': '小明',\n",
       "  'fields': {'a': 1, 'b': 'xxx', 'c': [1, 2, 3]}},\n",
       " {'_id': ObjectId('64217bb51cee1325d080bed6'),\n",
       "  'name': '小王',\n",
       "  'fields': {'a': 1, 'b': 'xxx', 'c': [1, 2, 3]}},\n",
       " {'_id': ObjectId('64217bb51cee1325d080bed7'),\n",
       "  'name': '小张',\n",
       "  'fields': {'a': 1, 'b': 'xxx', 'c': [1, 2, 3]}},\n",
       " {'_id': ObjectId('64217bb51cee1325d080bed8'),\n",
       "  'name': '小李',\n",
       "  'fields': {'a': 1, 'b': 'xxx', 'c': [1, 2, 3]}}]"
      ]
     },
     "execution_count": 9,
     "metadata": {},
     "output_type": "execute_result"
    }
   ],
   "source": [
    "# 以小于等于为例\n",
    "list(\n",
    "    collection.find({\n",
    "        'fields.a': {\n",
    "            '$lte': 1\n",
    "        }\n",
    "    })\n",
    ")"
   ]
  },
  {
   "cell_type": "code",
   "execution_count": 10,
   "metadata": {},
   "outputs": [
    {
     "data": {
      "text/plain": [
       "[{'_id': ObjectId('64217bb51cee1325d080bed5'),\n",
       "  'name': '小明',\n",
       "  'fields': {'a': 1, 'b': 'xxx', 'c': [1, 2, 3]}},\n",
       " {'_id': ObjectId('64217bb51cee1325d080bed6'),\n",
       "  'name': '小王',\n",
       "  'fields': {'a': 1, 'b': 'xxx', 'c': [1, 2, 3]}},\n",
       " {'_id': ObjectId('64217bb51cee1325d080bed7'),\n",
       "  'name': '小张',\n",
       "  'fields': {'a': 1, 'b': 'xxx', 'c': [1, 2, 3]}},\n",
       " {'_id': ObjectId('64217bb51cee1325d080bed8'),\n",
       "  'name': '小李',\n",
       "  'fields': {'a': 1, 'b': 'xxx', 'c': [1, 2, 3]}}]"
      ]
     },
     "execution_count": 10,
     "metadata": {},
     "output_type": "execute_result"
    }
   ],
   "source": [
    "# 查询目标数组长度不为0的记录\n",
    "list(\n",
    "    collection.find({\n",
    "        'fields.c': {\n",
    "            '$not': {\n",
    "                '$size': 0\n",
    "            }\n",
    "        }\n",
    "    })\n",
    ")\n"
   ]
  },
  {
   "cell_type": "code",
   "execution_count": 11,
   "metadata": {},
   "outputs": [
    {
     "data": {
      "text/plain": [
       "[{'name': '小明', 'fields': {'a': 1, 'c': [1, 2, 3]}},\n",
       " {'name': '小张', 'fields': {'a': 1, 'c': [1, 2, 3]}}]"
      ]
     },
     "execution_count": 11,
     "metadata": {},
     "output_type": "execute_result"
    }
   ],
   "source": [
    "list(\n",
    "    collection\n",
    "    .find(\n",
    "        {\n",
    "            'name': {\n",
    "                '$in': ['小明', '小张']\n",
    "            }\n",
    "        },\n",
    "        # 去除自带的_id字段和fields.b字段\n",
    "        {\n",
    "            '_id': 0,\n",
    "            'fields.b': 0\n",
    "        }\n",
    "    )\n",
    ")"
   ]
  },
  {
   "cell_type": "markdown",
   "metadata": {},
   "source": [
    "- 改"
   ]
  },
  {
   "cell_type": "code",
   "execution_count": 12,
   "metadata": {},
   "outputs": [
    {
     "data": {
      "text/plain": [
       "<pymongo.results.UpdateResult at 0x296609e6e20>"
      ]
     },
     "execution_count": 12,
     "metadata": {},
     "output_type": "execute_result"
    }
   ],
   "source": [
    "# 更新指定字段值\n",
    "(\n",
    "    collection\n",
    "    .update_many(\n",
    "        # 更新条件\n",
    "        {\n",
    "            'name': {\n",
    "                '$in': ['小明', '小张']\n",
    "            }\n",
    "        },\n",
    "        # 更新内容\n",
    "        {\n",
    "            '$set': {\n",
    "                'fields.a': 999\n",
    "            }\n",
    "        }\n",
    "    )\n",
    ")\n"
   ]
  },
  {
   "cell_type": "code",
   "execution_count": 13,
   "metadata": {},
   "outputs": [
    {
     "data": {
      "text/plain": [
       "[{'_id': ObjectId('64217bb51cee1325d080bed5'),\n",
       "  'name': '小明',\n",
       "  'fields': {'a': 999, 'b': 'xxx', 'c': [1, 2, 3]}},\n",
       " {'_id': ObjectId('64217bb51cee1325d080bed7'),\n",
       "  'name': '小张',\n",
       "  'fields': {'a': 999, 'b': 'xxx', 'c': [1, 2, 3]}}]"
      ]
     },
     "execution_count": 13,
     "metadata": {},
     "output_type": "execute_result"
    }
   ],
   "source": [
    "list(\n",
    "    collection.find(\n",
    "        {\n",
    "            'name': {\n",
    "                '$in': ['小明', '小张']\n",
    "            }\n",
    "        }\n",
    "    )\n",
    ")\n"
   ]
  },
  {
   "cell_type": "code",
   "execution_count": 14,
   "metadata": {},
   "outputs": [
    {
     "data": {
      "text/plain": [
       "<pymongo.results.UpdateResult at 0x2965eb050d0>"
      ]
     },
     "execution_count": 14,
     "metadata": {},
     "output_type": "execute_result"
    }
   ],
   "source": [
    "# 为目标数组追加值\n",
    "(\n",
    "    collection\n",
    "    .update_many(\n",
    "        # 更新条件\n",
    "        {\n",
    "            'name': {\n",
    "                '$in': ['小明', '小张']\n",
    "            }\n",
    "        },\n",
    "        # 更新内容\n",
    "        {\n",
    "            '$push': {\n",
    "                'fields.c': 999\n",
    "            }\n",
    "        }\n",
    "    )\n",
    ")"
   ]
  },
  {
   "cell_type": "code",
   "execution_count": 15,
   "metadata": {},
   "outputs": [
    {
     "data": {
      "text/plain": [
       "[{'_id': ObjectId('64217bb51cee1325d080bed5'),\n",
       "  'name': '小明',\n",
       "  'fields': {'a': 999, 'b': 'xxx', 'c': [1, 2, 3, 999]}},\n",
       " {'_id': ObjectId('64217bb51cee1325d080bed7'),\n",
       "  'name': '小张',\n",
       "  'fields': {'a': 999, 'b': 'xxx', 'c': [1, 2, 3, 999]}}]"
      ]
     },
     "execution_count": 15,
     "metadata": {},
     "output_type": "execute_result"
    }
   ],
   "source": [
    "list(\n",
    "    collection.find(\n",
    "        {\n",
    "            'name': {\n",
    "                '$in': ['小明', '小张']\n",
    "            }\n",
    "        }\n",
    "    )\n",
    ")"
   ]
  },
  {
   "cell_type": "markdown",
   "metadata": {},
   "source": [
    "- 删"
   ]
  },
  {
   "cell_type": "code",
   "execution_count": 16,
   "metadata": {},
   "outputs": [
    {
     "data": {
      "text/plain": [
       "<pymongo.results.DeleteResult at 0x2965eb05dc0>"
      ]
     },
     "execution_count": 16,
     "metadata": {},
     "output_type": "execute_result"
    }
   ],
   "source": [
    "(\n",
    "    collection\n",
    "    .delete_many(\n",
    "        {\n",
    "            'name': '小张'\n",
    "        }\n",
    "    )\n",
    ")"
   ]
  },
  {
   "cell_type": "code",
   "execution_count": 17,
   "metadata": {},
   "outputs": [
    {
     "data": {
      "text/plain": [
       "[{'_id': ObjectId('64217bb51cee1325d080bed5'),\n",
       "  'name': '小明',\n",
       "  'fields': {'a': 999, 'b': 'xxx', 'c': [1, 2, 3, 999]}},\n",
       " {'_id': ObjectId('64217bb51cee1325d080bed6'),\n",
       "  'name': '小王',\n",
       "  'fields': {'a': 1, 'b': 'xxx', 'c': [1, 2, 3]}},\n",
       " {'_id': ObjectId('64217bb51cee1325d080bed8'),\n",
       "  'name': '小李',\n",
       "  'fields': {'a': 1, 'b': 'xxx', 'c': [1, 2, 3]}}]"
      ]
     },
     "execution_count": 17,
     "metadata": {},
     "output_type": "execute_result"
    }
   ],
   "source": [
    "list(collection.find({}))"
   ]
  },
  {
   "cell_type": "code",
   "execution_count": 18,
   "metadata": {},
   "outputs": [
    {
     "data": {
      "text/plain": [
       "'name_1'"
      ]
     },
     "execution_count": 18,
     "metadata": {},
     "output_type": "execute_result"
    }
   ],
   "source": [
    "# 为name字段创建唯一值索引，切记一定要设置background=True从而更加稳定\n",
    "collection.create_index('name', unique=True, background=True)\n"
   ]
  },
  {
   "cell_type": "code",
   "execution_count": 19,
   "metadata": {},
   "outputs": [
    {
     "ename": "DuplicateKeyError",
     "evalue": "E11000 duplicate key error collection: demo.demo_collection index: name_1 dup key: { name: \"小明\" }, full error: {'index': 0, 'code': 11000, 'errmsg': 'E11000 duplicate key error collection: demo.demo_collection index: name_1 dup key: { name: \"小明\" }', 'keyPattern': {'name': 1}, 'keyValue': {'name': '小明'}}",
     "output_type": "error",
     "traceback": [
      "\u001b[1;31m---------------------------------------------------------------------------\u001b[0m",
      "\u001b[1;31mDuplicateKeyError\u001b[0m                         Traceback (most recent call last)",
      "Cell \u001b[1;32mIn[19], line 2\u001b[0m\n\u001b[0;32m      1\u001b[0m \u001b[39m# 尝试插入name重复的数据\u001b[39;00m\n\u001b[1;32m----> 2\u001b[0m collection\u001b[39m.\u001b[39;49minsert_one(\n\u001b[0;32m      3\u001b[0m     {\u001b[39m'\u001b[39;49m\u001b[39mname\u001b[39;49m\u001b[39m'\u001b[39;49m: \u001b[39m'\u001b[39;49m\u001b[39m小明\u001b[39;49m\u001b[39m'\u001b[39;49m, \u001b[39m'\u001b[39;49m\u001b[39mfields\u001b[39;49m\u001b[39m'\u001b[39;49m: {\u001b[39m'\u001b[39;49m\u001b[39ma\u001b[39;49m\u001b[39m'\u001b[39;49m: \u001b[39m1\u001b[39;49m, \u001b[39m'\u001b[39;49m\u001b[39mb\u001b[39;49m\u001b[39m'\u001b[39;49m: \u001b[39m'\u001b[39;49m\u001b[39mxxx\u001b[39;49m\u001b[39m'\u001b[39;49m, \u001b[39m'\u001b[39;49m\u001b[39mc\u001b[39;49m\u001b[39m'\u001b[39;49m: [\u001b[39m1\u001b[39;49m, \u001b[39m2\u001b[39;49m, \u001b[39m3\u001b[39;49m]}}\n\u001b[0;32m      4\u001b[0m )\n",
      "File \u001b[1;32mc:\\Software\\Conda\\envs\\approval-process-api\\lib\\site-packages\\pymongo\\collection.py:628\u001b[0m, in \u001b[0;36mCollection.insert_one\u001b[1;34m(self, document, bypass_document_validation, session, comment)\u001b[0m\n\u001b[0;32m    624\u001b[0m     document[\u001b[39m\"\u001b[39m\u001b[39m_id\u001b[39m\u001b[39m\"\u001b[39m] \u001b[39m=\u001b[39m ObjectId()  \u001b[39m# type: ignore[index]\u001b[39;00m\n\u001b[0;32m    626\u001b[0m write_concern \u001b[39m=\u001b[39m \u001b[39mself\u001b[39m\u001b[39m.\u001b[39m_write_concern_for(session)\n\u001b[0;32m    627\u001b[0m \u001b[39mreturn\u001b[39;00m InsertOneResult(\n\u001b[1;32m--> 628\u001b[0m     \u001b[39mself\u001b[39;49m\u001b[39m.\u001b[39;49m_insert_one(\n\u001b[0;32m    629\u001b[0m         document,\n\u001b[0;32m    630\u001b[0m         ordered\u001b[39m=\u001b[39;49m\u001b[39mTrue\u001b[39;49;00m,\n\u001b[0;32m    631\u001b[0m         write_concern\u001b[39m=\u001b[39;49mwrite_concern,\n\u001b[0;32m    632\u001b[0m         op_id\u001b[39m=\u001b[39;49m\u001b[39mNone\u001b[39;49;00m,\n\u001b[0;32m    633\u001b[0m         bypass_doc_val\u001b[39m=\u001b[39;49mbypass_document_validation,\n\u001b[0;32m    634\u001b[0m         session\u001b[39m=\u001b[39;49msession,\n\u001b[0;32m    635\u001b[0m         comment\u001b[39m=\u001b[39;49mcomment,\n\u001b[0;32m    636\u001b[0m     ),\n\u001b[0;32m    637\u001b[0m     write_concern\u001b[39m.\u001b[39macknowledged,\n\u001b[0;32m    638\u001b[0m )\n",
      "File \u001b[1;32mc:\\Software\\Conda\\envs\\approval-process-api\\lib\\site-packages\\pymongo\\collection.py:569\u001b[0m, in \u001b[0;36mCollection._insert_one\u001b[1;34m(self, doc, ordered, write_concern, op_id, bypass_doc_val, session, comment)\u001b[0m\n\u001b[0;32m    557\u001b[0m     result \u001b[39m=\u001b[39m sock_info\u001b[39m.\u001b[39mcommand(\n\u001b[0;32m    558\u001b[0m         \u001b[39mself\u001b[39m\u001b[39m.\u001b[39m__database\u001b[39m.\u001b[39mname,\n\u001b[0;32m    559\u001b[0m         command,\n\u001b[1;32m   (...)\u001b[0m\n\u001b[0;32m    564\u001b[0m         retryable_write\u001b[39m=\u001b[39mretryable_write,\n\u001b[0;32m    565\u001b[0m     )\n\u001b[0;32m    567\u001b[0m     _check_write_command_response(result)\n\u001b[1;32m--> 569\u001b[0m \u001b[39mself\u001b[39;49m\u001b[39m.\u001b[39;49m__database\u001b[39m.\u001b[39;49mclient\u001b[39m.\u001b[39;49m_retryable_write(acknowledged, _insert_command, session)\n\u001b[0;32m    571\u001b[0m \u001b[39mif\u001b[39;00m \u001b[39mnot\u001b[39;00m \u001b[39misinstance\u001b[39m(doc, RawBSONDocument):\n\u001b[0;32m    572\u001b[0m     \u001b[39mreturn\u001b[39;00m doc\u001b[39m.\u001b[39mget(\u001b[39m\"\u001b[39m\u001b[39m_id\u001b[39m\u001b[39m\"\u001b[39m)\n",
      "File \u001b[1;32mc:\\Software\\Conda\\envs\\approval-process-api\\lib\\site-packages\\pymongo\\mongo_client.py:1476\u001b[0m, in \u001b[0;36mMongoClient._retryable_write\u001b[1;34m(self, retryable, func, session)\u001b[0m\n\u001b[0;32m   1474\u001b[0m \u001b[39m\u001b[39m\u001b[39m\"\"\"Internal retryable write helper.\"\"\"\u001b[39;00m\n\u001b[0;32m   1475\u001b[0m \u001b[39mwith\u001b[39;00m \u001b[39mself\u001b[39m\u001b[39m.\u001b[39m_tmp_session(session) \u001b[39mas\u001b[39;00m s:\n\u001b[1;32m-> 1476\u001b[0m     \u001b[39mreturn\u001b[39;00m \u001b[39mself\u001b[39;49m\u001b[39m.\u001b[39;49m_retry_with_session(retryable, func, s, \u001b[39mNone\u001b[39;49;00m)\n",
      "File \u001b[1;32mc:\\Software\\Conda\\envs\\approval-process-api\\lib\\site-packages\\pymongo\\mongo_client.py:1349\u001b[0m, in \u001b[0;36mMongoClient._retry_with_session\u001b[1;34m(self, retryable, func, session, bulk)\u001b[0m\n\u001b[0;32m   1339\u001b[0m \u001b[39m\u001b[39m\u001b[39m\"\"\"Execute an operation with at most one consecutive retries\u001b[39;00m\n\u001b[0;32m   1340\u001b[0m \n\u001b[0;32m   1341\u001b[0m \u001b[39mReturns func()'s return value on success. On error retries the same\u001b[39;00m\n\u001b[1;32m   (...)\u001b[0m\n\u001b[0;32m   1344\u001b[0m \u001b[39mRe-raises any exception thrown by func().\u001b[39;00m\n\u001b[0;32m   1345\u001b[0m \u001b[39m\"\"\"\u001b[39;00m\n\u001b[0;32m   1346\u001b[0m retryable \u001b[39m=\u001b[39m (\n\u001b[0;32m   1347\u001b[0m     retryable \u001b[39mand\u001b[39;00m \u001b[39mself\u001b[39m\u001b[39m.\u001b[39moptions\u001b[39m.\u001b[39mretry_writes \u001b[39mand\u001b[39;00m session \u001b[39mand\u001b[39;00m \u001b[39mnot\u001b[39;00m session\u001b[39m.\u001b[39min_transaction\n\u001b[0;32m   1348\u001b[0m )\n\u001b[1;32m-> 1349\u001b[0m \u001b[39mreturn\u001b[39;00m \u001b[39mself\u001b[39;49m\u001b[39m.\u001b[39;49m_retry_internal(retryable, func, session, bulk)\n",
      "File \u001b[1;32mc:\\Software\\Conda\\envs\\approval-process-api\\lib\\site-packages\\pymongo\\_csot.py:105\u001b[0m, in \u001b[0;36mapply.<locals>.csot_wrapper\u001b[1;34m(self, *args, **kwargs)\u001b[0m\n\u001b[0;32m    103\u001b[0m         \u001b[39mwith\u001b[39;00m _TimeoutContext(timeout):\n\u001b[0;32m    104\u001b[0m             \u001b[39mreturn\u001b[39;00m func(\u001b[39mself\u001b[39m, \u001b[39m*\u001b[39margs, \u001b[39m*\u001b[39m\u001b[39m*\u001b[39mkwargs)\n\u001b[1;32m--> 105\u001b[0m \u001b[39mreturn\u001b[39;00m func(\u001b[39mself\u001b[39;49m, \u001b[39m*\u001b[39;49margs, \u001b[39m*\u001b[39;49m\u001b[39m*\u001b[39;49mkwargs)\n",
      "File \u001b[1;32mc:\\Software\\Conda\\envs\\approval-process-api\\lib\\site-packages\\pymongo\\mongo_client.py:1390\u001b[0m, in \u001b[0;36mMongoClient._retry_internal\u001b[1;34m(self, retryable, func, session, bulk)\u001b[0m\n\u001b[0;32m   1388\u001b[0m                 \u001b[39mraise\u001b[39;00m last_error\n\u001b[0;32m   1389\u001b[0m             retryable \u001b[39m=\u001b[39m \u001b[39mFalse\u001b[39;00m\n\u001b[1;32m-> 1390\u001b[0m         \u001b[39mreturn\u001b[39;00m func(session, sock_info, retryable)\n\u001b[0;32m   1391\u001b[0m \u001b[39mexcept\u001b[39;00m ServerSelectionTimeoutError:\n\u001b[0;32m   1392\u001b[0m     \u001b[39mif\u001b[39;00m is_retrying():\n\u001b[0;32m   1393\u001b[0m         \u001b[39m# The application may think the write was never attempted\u001b[39;00m\n\u001b[0;32m   1394\u001b[0m         \u001b[39m# if we raise ServerSelectionTimeoutError on the retry\u001b[39;00m\n\u001b[0;32m   1395\u001b[0m         \u001b[39m# attempt. Raise the original exception instead.\u001b[39;00m\n",
      "File \u001b[1;32mc:\\Software\\Conda\\envs\\approval-process-api\\lib\\site-packages\\pymongo\\collection.py:567\u001b[0m, in \u001b[0;36mCollection._insert_one.<locals>._insert_command\u001b[1;34m(session, sock_info, retryable_write)\u001b[0m\n\u001b[0;32m    555\u001b[0m     command[\u001b[39m\"\u001b[39m\u001b[39mbypassDocumentValidation\u001b[39m\u001b[39m\"\u001b[39m] \u001b[39m=\u001b[39m \u001b[39mTrue\u001b[39;00m\n\u001b[0;32m    557\u001b[0m result \u001b[39m=\u001b[39m sock_info\u001b[39m.\u001b[39mcommand(\n\u001b[0;32m    558\u001b[0m     \u001b[39mself\u001b[39m\u001b[39m.\u001b[39m__database\u001b[39m.\u001b[39mname,\n\u001b[0;32m    559\u001b[0m     command,\n\u001b[1;32m   (...)\u001b[0m\n\u001b[0;32m    564\u001b[0m     retryable_write\u001b[39m=\u001b[39mretryable_write,\n\u001b[0;32m    565\u001b[0m )\n\u001b[1;32m--> 567\u001b[0m _check_write_command_response(result)\n",
      "File \u001b[1;32mc:\\Software\\Conda\\envs\\approval-process-api\\lib\\site-packages\\pymongo\\helpers.py:217\u001b[0m, in \u001b[0;36m_check_write_command_response\u001b[1;34m(result)\u001b[0m\n\u001b[0;32m    215\u001b[0m write_errors \u001b[39m=\u001b[39m result\u001b[39m.\u001b[39mget(\u001b[39m\"\u001b[39m\u001b[39mwriteErrors\u001b[39m\u001b[39m\"\u001b[39m)\n\u001b[0;32m    216\u001b[0m \u001b[39mif\u001b[39;00m write_errors:\n\u001b[1;32m--> 217\u001b[0m     _raise_last_write_error(write_errors)\n\u001b[0;32m    219\u001b[0m wce \u001b[39m=\u001b[39m _get_wce_doc(result)\n\u001b[0;32m    220\u001b[0m \u001b[39mif\u001b[39;00m wce:\n",
      "File \u001b[1;32mc:\\Software\\Conda\\envs\\approval-process-api\\lib\\site-packages\\pymongo\\helpers.py:189\u001b[0m, in \u001b[0;36m_raise_last_write_error\u001b[1;34m(write_errors)\u001b[0m\n\u001b[0;32m    187\u001b[0m error \u001b[39m=\u001b[39m write_errors[\u001b[39m-\u001b[39m\u001b[39m1\u001b[39m]\n\u001b[0;32m    188\u001b[0m \u001b[39mif\u001b[39;00m error\u001b[39m.\u001b[39mget(\u001b[39m\"\u001b[39m\u001b[39mcode\u001b[39m\u001b[39m\"\u001b[39m) \u001b[39m==\u001b[39m \u001b[39m11000\u001b[39m:\n\u001b[1;32m--> 189\u001b[0m     \u001b[39mraise\u001b[39;00m DuplicateKeyError(error\u001b[39m.\u001b[39mget(\u001b[39m\"\u001b[39m\u001b[39merrmsg\u001b[39m\u001b[39m\"\u001b[39m), \u001b[39m11000\u001b[39m, error)\n\u001b[0;32m    190\u001b[0m \u001b[39mraise\u001b[39;00m WriteError(error\u001b[39m.\u001b[39mget(\u001b[39m\"\u001b[39m\u001b[39merrmsg\u001b[39m\u001b[39m\"\u001b[39m), error\u001b[39m.\u001b[39mget(\u001b[39m\"\u001b[39m\u001b[39mcode\u001b[39m\u001b[39m\"\u001b[39m), error)\n",
      "\u001b[1;31mDuplicateKeyError\u001b[0m: E11000 duplicate key error collection: demo.demo_collection index: name_1 dup key: { name: \"小明\" }, full error: {'index': 0, 'code': 11000, 'errmsg': 'E11000 duplicate key error collection: demo.demo_collection index: name_1 dup key: { name: \"小明\" }', 'keyPattern': {'name': 1}, 'keyValue': {'name': '小明'}}"
     ]
    }
   ],
   "source": [
    "# 尝试插入name重复的数据\n",
    "collection.insert_one(\n",
    "    {'name': '小明', 'fields': {'a': 1, 'b': 'xxx', 'c': [1, 2, 3]}}\n",
    ")\n"
   ]
  },
  {
   "cell_type": "code",
   "execution_count": 20,
   "metadata": {},
   "outputs": [],
   "source": [
    "# 基于JSONSchema创建文档格式校验规则\n",
    "# 删除示例collection\n",
    "db.drop_collection('demo_collection')\n",
    "db.create_collection(\n",
    "    'demo_collection',\n",
    "    validator={\n",
    "        \"$jsonSchema\": {\n",
    "            \"bsonType\": \"object\",\n",
    "            \"required\": [\"name\", \"fields\"],\n",
    "            \"properties\": {\n",
    "                \"name\": {\n",
    "                    \"bsonType\": \"string\"\n",
    "                },\n",
    "                \"fields\": {\n",
    "                    \"bsonType\": \"object\",\n",
    "                    \"required\": [\"a\", \"b\"]\n",
    "                }\n",
    "            }\n",
    "        }\n",
    "    }\n",
    ")\n",
    "collection = db['demo_collection']\n"
   ]
  },
  {
   "cell_type": "code",
   "execution_count": 21,
   "metadata": {},
   "outputs": [
    {
     "name": "stdout",
     "output_type": "stream",
     "text": [
      "插入失败\n",
      "Document failed validation, full error: {'index': 0, 'code': 121, 'errmsg': 'Document failed validation', 'errInfo': {'failingDocumentId': ObjectId('64217bc11cee1325d080beda'), 'details': {'operatorName': '$jsonSchema', 'schemaRulesNotSatisfied': [{'operatorName': 'required', 'specifiedAs': {'required': ['name', 'fields']}, 'missingProperties': ['fields']}]}}}\n"
     ]
    }
   ],
   "source": [
    "# 尝试插入不合规数据\n",
    "try:\n",
    "    collection.insert_one(\n",
    "        {\n",
    "            'name': '小明'\n",
    "        }\n",
    "    )\n",
    "except Exception as e:\n",
    "    print('插入失败')\n",
    "    print(e)"
   ]
  },
  {
   "cell_type": "code",
   "execution_count": 22,
   "metadata": {},
   "outputs": [
    {
     "data": {
      "text/plain": [
       "<pymongo.results.InsertOneResult at 0x29662de5760>"
      ]
     },
     "execution_count": 22,
     "metadata": {},
     "output_type": "execute_result"
    }
   ],
   "source": [
    "# 插入合规数据\n",
    "collection.insert_one(\n",
    "    {\n",
    "        'name': '小明',\n",
    "        'fields': {\n",
    "            'a': 1,\n",
    "            'b': 1\n",
    "        }\n",
    "    }\n",
    ")\n"
   ]
  }
 ],
 "metadata": {
  "kernelspec": {
   "display_name": "Python 3.8.16 ('approval-process-api')",
   "language": "python",
   "name": "python3"
  },
  "language_info": {
   "codemirror_mode": {
    "name": "ipython",
    "version": 3
   },
   "file_extension": ".py",
   "mimetype": "text/x-python",
   "name": "python",
   "nbconvert_exporter": "python",
   "pygments_lexer": "ipython3",
   "version": "3.8.16"
  },
  "orig_nbformat": 4,
  "vscode": {
   "interpreter": {
    "hash": "e29c7fe3e46476e087ef3ec7f80ef01e9f656890451e06bae53cf7eda853f96b"
   }
  }
 },
 "nbformat": 4,
 "nbformat_minor": 2
}
