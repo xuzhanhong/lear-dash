{
 "cells": [
  {
   "cell_type": "markdown",
   "metadata": {},
   "source": [
    "# 1 关系型数据库功能验证"
   ]
  },
  {
   "cell_type": "markdown",
   "metadata": {},
   "source": [
    "## 1.1 用户登陆鉴权验证"
   ]
  },
  {
   "cell_type": "code",
   "execution_count": 1,
   "metadata": {},
   "outputs": [],
   "source": [
    "# 确保当前notebook可以正常导入models相关模块\n",
    "import sys\n",
    "\n",
    "sys.path.append('..')\n"
   ]
  },
  {
   "cell_type": "code",
   "execution_count": 2,
   "metadata": {},
   "outputs": [],
   "source": [
    "\n",
    "import hashlib\n",
    "# 注：这里由于是在notebooks/数据模型测试.ipynb中执行代码\n",
    "# 因此针对数据库模型所生成的SQLite对应db文件与当前ipynb文件同级\n",
    "# 好处是不会与基于项目根目录启动后创建的db文件相冲突\n",
    "from models.sql import sql_db, UserInfo\n"
   ]
  },
  {
   "cell_type": "code",
   "execution_count": 3,
   "metadata": {},
   "outputs": [],
   "source": [
    "def str2md5(raw_str: str) -> str:\n",
    "    \"\"\"对字符串进行md5加密\n",
    "\n",
    "    Args:\n",
    "        raw_str (str): 输入的待加密字符串\n",
    "\n",
    "    Returns:\n",
    "        str: 加密后的md5值\n",
    "    \"\"\"\n",
    "\n",
    "    m = hashlib.md5()\n",
    "    m.update(raw_str.encode('utf-8'))\n",
    "\n",
    "    return m.hexdigest()\n"
   ]
  },
  {
   "cell_type": "code",
   "execution_count": 4,
   "metadata": {},
   "outputs": [
    {
     "data": {
      "text/plain": [
       "[{'user_id': 'test',\n",
       "  'user_name': '张三',\n",
       "  'password': 'test_password',\n",
       "  'md5_password': '16ec1ebb01fe02ded9b7d5447d3dfc65',\n",
       "  'gender': '男',\n",
       "  'department_id': 1,\n",
       "  'rank_id': 1}]"
      ]
     },
     "execution_count": 4,
     "metadata": {},
     "output_type": "execute_result"
    }
   ],
   "source": [
    "\n",
    "# 向用户信息表中插入单条测试用模拟数据\n",
    "with sql_db.atomic():\n",
    "\n",
    "    # 若测试表中无下列测试数据，则进行插入\n",
    "    if UserInfo.select(UserInfo.user_id == 'test').count() == 0:\n",
    "        UserInfo.create(\n",
    "            user_id='test',\n",
    "            user_name='张三',\n",
    "            password='test_password',\n",
    "            md5_password=str2md5('test_password'),\n",
    "            gender='男',\n",
    "            department_id=1,\n",
    "            rank_id=1\n",
    "        )\n",
    "\n",
    "# 查询插入的测试数据\n",
    "list(UserInfo.select().where(UserInfo.user_id == 'test').dicts())\n"
   ]
  },
  {
   "cell_type": "code",
   "execution_count": 5,
   "metadata": {},
   "outputs": [],
   "source": [
    "# 模拟用户登陆鉴权验证，这里将具有唯一性的user_id视作登陆用户名\n",
    "\n",
    "def check_user_auth(user_id: str,\n",
    "                    md5_password: str) -> dict:\n",
    "\n",
    "    # 尝试根据输入的user_id查询用户信息记录\n",
    "    with sql_db.atomic():\n",
    "        match_records = (\n",
    "            UserInfo\n",
    "            .select()\n",
    "            .where(UserInfo.user_id == user_id)\n",
    "            .dicts()\n",
    "        )\n",
    "\n",
    "    # 判断当前用户是否存在\n",
    "    if match_records:\n",
    "        # 继续判断md5密码是否正确\n",
    "        if match_records[0]['md5_password'] == md5_password:\n",
    "            return {\n",
    "                'status': 'success',\n",
    "                'message': '当前用户鉴权通过',\n",
    "                'data': match_records[0]\n",
    "            }\n",
    "\n",
    "        return {\n",
    "            'status': 'error',\n",
    "            'message': '当前用户密码错误'\n",
    "        }\n",
    "\n",
    "    return {\n",
    "        'status': 'error',\n",
    "        'message': '当前用户不存在'\n",
    "    }\n"
   ]
  },
  {
   "cell_type": "code",
   "execution_count": 6,
   "metadata": {},
   "outputs": [],
   "source": [
    "test_input_params = [\n",
    "    # 模拟用户id存在且md5密码正确的情况\n",
    "    ('test', str2md5('test_password')),\n",
    "    # 模拟用户id存在但md5密码错误的情况\n",
    "    ('test', str2md5('test_password_wrong')),\n",
    "    # 模拟用户id不存在的情况\n",
    "    ('test_wrong', 'demo_password'),\n",
    "]"
   ]
  },
  {
   "cell_type": "code",
   "execution_count": 7,
   "metadata": {},
   "outputs": [
    {
     "data": {
      "text/plain": [
       "{'status': 'success',\n",
       " 'message': '当前用户鉴权通过',\n",
       " 'data': {'user_id': 'test',\n",
       "  'user_name': '张三',\n",
       "  'password': 'test_password',\n",
       "  'md5_password': '16ec1ebb01fe02ded9b7d5447d3dfc65',\n",
       "  'gender': '男',\n",
       "  'department_id': 1,\n",
       "  'rank_id': 1}}"
      ]
     },
     "execution_count": 7,
     "metadata": {},
     "output_type": "execute_result"
    }
   ],
   "source": [
    "check_user_auth(*test_input_params[0])\n"
   ]
  },
  {
   "cell_type": "code",
   "execution_count": 8,
   "metadata": {},
   "outputs": [
    {
     "data": {
      "text/plain": [
       "{'status': 'error', 'message': '当前用户密码错误'}"
      ]
     },
     "execution_count": 8,
     "metadata": {},
     "output_type": "execute_result"
    }
   ],
   "source": [
    "check_user_auth(*test_input_params[1])\n"
   ]
  },
  {
   "cell_type": "code",
   "execution_count": 9,
   "metadata": {},
   "outputs": [
    {
     "data": {
      "text/plain": [
       "{'status': 'error', 'message': '当前用户不存在'}"
      ]
     },
     "execution_count": 9,
     "metadata": {},
     "output_type": "execute_result"
    }
   ],
   "source": [
    "check_user_auth(*test_input_params[2])\n"
   ]
  },
  {
   "cell_type": "markdown",
   "metadata": {},
   "source": [
    "# 2 非关系型数据库功能验证"
   ]
  },
  {
   "cell_type": "markdown",
   "metadata": {},
   "source": [
    "## 2.1 流程元信息表数据插入验证"
   ]
  },
  {
   "cell_type": "code",
   "execution_count": 10,
   "metadata": {},
   "outputs": [],
   "source": [
    "# 确保当前notebook可以正常导入models相关模块\n",
    "import sys\n",
    "\n",
    "sys.path.append('..')"
   ]
  },
  {
   "cell_type": "code",
   "execution_count": 11,
   "metadata": {},
   "outputs": [],
   "source": [
    "from models.nosql import ProcessMeta, init_db\n"
   ]
  },
  {
   "cell_type": "code",
   "execution_count": 12,
   "metadata": {},
   "outputs": [
    {
     "name": "stdout",
     "output_type": "stream",
     "text": [
      "集合process_meta重置成功\n"
     ]
    }
   ],
   "source": [
    "# 强制重置数据库\n",
    "init_db(init_process_meta=True)\n"
   ]
  },
  {
   "cell_type": "code",
   "execution_count": 13,
   "metadata": {},
   "outputs": [
    {
     "data": {
      "text/plain": [
       "<pymongo.results.InsertOneResult at 0x20a130fc7f0>"
      ]
     },
     "execution_count": 13,
     "metadata": {},
     "output_type": "execute_result"
    }
   ],
   "source": [
    "# 插入测试数据\n",
    "process_meta = ProcessMeta()\n",
    "\n",
    "(\n",
    "    process_meta\n",
    "    .collection\n",
    "    .insert_one(\n",
    "        {\n",
    "            '流程id': 'test_process_id',\n",
    "            '流程名称': '测试流程1',\n",
    "            '流程描述': '这是测试流程1',\n",
    "            '流程类型': '测试类型1',\n",
    "            '可发起部门': ['部门A', '部门B'],\n",
    "            '流程表单结构': [\n",
    "                {\n",
    "                    '字段名': '字段1',\n",
    "                    '字段描述': '这是字段1',\n",
    "                    '类型': '字符型',\n",
    "                    '是否必填': True\n",
    "                },\n",
    "                {\n",
    "                    '字段名': '字段2',\n",
    "                    '字段描述': '这是字段2',\n",
    "                    '类型': '字符型',\n",
    "                    '是否必填': True,\n",
    "                    '约束条件': {\n",
    "                        '约束类型': '枚举约束',\n",
    "                        '枚举范围': ['a', 'b', 'c', 'd']\n",
    "                    }\n",
    "                },\n",
    "                {\n",
    "                    '字段名': '字段3',\n",
    "                    '字段描述': '这是字段3',\n",
    "                    '类型': '整型',\n",
    "                    '是否必填': True,\n",
    "                    '约束条件': {\n",
    "                        '约束类型': '范围约束',\n",
    "                        '下限': 0\n",
    "                    }\n",
    "                }\n",
    "            ],\n",
    "            '审批步骤': [\n",
    "                {\n",
    "                    '步骤名称': '测试步骤1',\n",
    "                    '步骤描述': '这是测试步骤1',\n",
    "                    '步骤次序': 1,\n",
    "                    '是否允许跳过': False,\n",
    "                    '是否为末尾节点': True,\n",
    "                    '审批人规则': {\n",
    "                        '规则类型': '相对职级审批人',\n",
    "                        '规则目标': '部门正职'\n",
    "                    }\n",
    "                }\n",
    "            ]\n",
    "        }\n",
    "    )\n",
    ")\n"
   ]
  },
  {
   "cell_type": "code",
   "execution_count": 14,
   "metadata": {},
   "outputs": [
    {
     "data": {
      "text/plain": [
       "{'_id': ObjectId('6424486fc045c6e94d02eca5'),\n",
       " '流程id': 'test_process_id',\n",
       " '流程名称': '测试流程1',\n",
       " '流程描述': '这是测试流程1',\n",
       " '流程类型': '测试类型1',\n",
       " '可发起部门': ['部门A', '部门B'],\n",
       " '流程表单结构': [{'字段名': '字段1', '字段描述': '这是字段1', '类型': '字符型', '是否必填': True},\n",
       "  {'字段名': '字段2',\n",
       "   '字段描述': '这是字段2',\n",
       "   '类型': '字符型',\n",
       "   '是否必填': True,\n",
       "   '约束条件': {'约束类型': '枚举约束', '枚举范围': ['a', 'b', 'c', 'd']}},\n",
       "  {'字段名': '字段3',\n",
       "   '字段描述': '这是字段3',\n",
       "   '类型': '整型',\n",
       "   '是否必填': True,\n",
       "   '约束条件': {'约束类型': '范围约束', '下限': 0}}],\n",
       " '审批步骤': [{'步骤名称': '测试步骤1',\n",
       "   '步骤描述': '这是测试步骤1',\n",
       "   '步骤次序': 1,\n",
       "   '是否允许跳过': False,\n",
       "   '是否为末尾节点': True,\n",
       "   '审批人规则': {'规则类型': '相对职级审批人', '规则目标': '部门正职'}}]}"
      ]
     },
     "execution_count": 14,
     "metadata": {},
     "output_type": "execute_result"
    }
   ],
   "source": [
    "(\n",
    "    process_meta\n",
    "    .collection\n",
    "    .find_one(\n",
    "        {\n",
    "            '流程id': 'test_process_id'\n",
    "        }\n",
    "    )\n",
    ")\n"
   ]
  }
 ],
 "metadata": {
  "kernelspec": {
   "display_name": "Python 3.8.16 ('approval-process-api')",
   "language": "python",
   "name": "python3"
  },
  "language_info": {
   "codemirror_mode": {
    "name": "ipython",
    "version": 3
   },
   "file_extension": ".py",
   "mimetype": "text/x-python",
   "name": "python",
   "nbconvert_exporter": "python",
   "pygments_lexer": "ipython3",
   "version": "3.8.16"
  },
  "orig_nbformat": 4,
  "vscode": {
   "interpreter": {
    "hash": "e29c7fe3e46476e087ef3ec7f80ef01e9f656890451e06bae53cf7eda853f96b"
   }
  }
 },
 "nbformat": 4,
 "nbformat_minor": 2
}
